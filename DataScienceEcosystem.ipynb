{
 "cells": [
  {
   "cell_type": "markdown",
   "id": "598e8912-8ee6-49d9-baa1-721796a5b374",
   "metadata": {},
   "source": [
    "Data Science Tools and Ecosystem"
   ]
  },
  {
   "cell_type": "markdown",
   "id": "6c3038cd-a4d8-40ec-b42d-dccfe28541e5",
   "metadata": {},
   "source": [
    "In this notebook, Data Science Tools and Ecosystem are summarized."
   ]
  },
  {
   "cell_type": "markdown",
   "id": "e375a287-d448-46d2-9f8b-4cca6c9653c8",
   "metadata": {},
   "source": [
    "Some of the popular languages that Data Scientists use are:"
   ]
  },
  {
   "cell_type": "markdown",
   "id": "7cff266a-0914-4544-a57b-dc4d5ecb68b2",
   "metadata": {},
   "source": [
    "NumPy"
   ]
  },
  {
   "cell_type": "markdown",
   "id": "8b365a23-7b56-4fc1-ade6-b26bb0f1932e",
   "metadata": {},
   "source": [
    "Pandas"
   ]
  },
  {
   "cell_type": "markdown",
   "id": "7b96bd8c-3da3-4b2c-b194-28b50b107033",
   "metadata": {},
   "source": [
    "Scikit-learn"
   ]
  },
  {
   "cell_type": "markdown",
   "id": "9402508d-660b-4985-a1e6-28fe55f1369f",
   "metadata": {},
   "source": [
    "| Data Science Tools |\n",
    "|--------------------|\n",
    "| Jupyter Notebooks    |\n",
    "RStudio 2            |\n",
    "Spyder              |\n"
   ]
  },
  {
   "cell_type": "markdown",
   "id": "52e66273-6684-4a08-be19-6e8c8132b1af",
   "metadata": {},
   "source": [
    "Below are a few examples of evaluating arithmetic expressions in Python"
   ]
  },
  {
   "cell_type": "code",
   "execution_count": 1,
   "id": "c72eeb55-0fff-4c86-a7ba-847048f98ce4",
   "metadata": {},
   "outputs": [
    {
     "data": {
      "text/plain": [
       "17"
      ]
     },
     "execution_count": 1,
     "metadata": {},
     "output_type": "execute_result"
    }
   ],
   "source": [
    "(3*4)+5"
   ]
  },
  {
   "cell_type": "markdown",
   "id": "2c41842f-7200-4d33-8df2-a3fad169a53d",
   "metadata": {},
   "source": [
    "This a simple arithmetic expression to mutiply then add integers."
   ]
  },
  {
   "cell_type": "code",
   "execution_count": 4,
   "id": "ca78cc07-8b60-4616-92bf-c3c002de63a4",
   "metadata": {},
   "outputs": [
    {
     "data": {
      "text/plain": [
       "3.3333333333333335"
      ]
     },
     "execution_count": 4,
     "metadata": {},
     "output_type": "execute_result"
    }
   ],
   "source": [
    "# Number of minutes\n",
    "minutes = 200\n",
    "\n",
    "# Convert minutes to hours\n",
    "hours = minutes / 60\n",
    "\n",
    "# Display the result\n",
    "hours"
   ]
  },
  {
   "cell_type": "markdown",
   "id": "bb54825d-2532-42a0-bf30-8e36f6b90b15",
   "metadata": {},
   "source": [
    "This will convert 200 minutes to hours by diving by 60"
   ]
  },
  {
   "cell_type": "markdown",
   "id": "d7b6ad08-f64b-4945-8850-0910ce576066",
   "metadata": {},
   "source": [
    "Objectives: List popular languages for Data Science"
   ]
  },
  {
   "cell_type": "markdown",
   "id": "7c4b8b76-a1f6-4821-89d1-0af814f8f42d",
   "metadata": {},
   "source": [
    "* SQL\n",
    "* R\n",
    "* C++"
   ]
  },
  {
   "cell_type": "markdown",
   "id": "2b53049d-7dd9-46ce-b83e-439c43139700",
   "metadata": {},
   "source": [
    "Author\n",
    "Gabriel Rivera"
   ]
  }
 ],
 "metadata": {
  "kernelspec": {
   "display_name": "Python 3 (ipykernel)",
   "language": "python",
   "name": "python3"
  },
  "language_info": {
   "codemirror_mode": {
    "name": "ipython",
    "version": 3
   },
   "file_extension": ".py",
   "mimetype": "text/x-python",
   "name": "python",
   "nbconvert_exporter": "python",
   "pygments_lexer": "ipython3",
   "version": "3.11.5"
  }
 },
 "nbformat": 4,
 "nbformat_minor": 5
}
